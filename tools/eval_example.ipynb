{
 "cells": [
  {
   "cell_type": "code",
   "execution_count": null,
   "metadata": {},
   "outputs": [],
   "source": [
    "# analyze error\n",
    "!python tools/coco_error_analysis.py training_dir/packdet_R_50_FPN_1x_fe-128-12-2_m4_sep/inference/coco_2014_minival/bbox.json ./result --ann datasets/coco/annotations/instances_minival2014.json"
   ]
  },
  {
   "cell_type": "code",
   "execution_count": 3,
   "metadata": {
    "pycharm": {
     "name": "#%%\n"
    }
   },
   "outputs": [
    {
     "name": "stdout",
     "output_type": "stream",
     "text": [
      "\n",
      "python: can't open file 'tools/coco_eval.py': [Errno 2] No such file or directory\n"
     ]
    }
   ],
   "source": [
    "# classwise AP\n",
    "!python tools/coco_eval.py training_dir/packdet_R_50_FPN_1x_fe-128-12-2_m4_sep/inference-2/coco_2014_minival/bbox.json \\\n",
    "--ann datasets/coco/annotations/instances_minival2014.json --classwise\n"
   ]
  }
 ],
 "metadata": {
  "kernelspec": {
   "display_name": "Python [conda env:pytorch_py37]",
   "language": "python",
   "name": "conda-env-pytorch_py37-py"
  },
  "language_info": {
   "codemirror_mode": {
    "name": "ipython",
    "version": 3
   },
   "file_extension": ".py",
   "mimetype": "text/x-python",
   "name": "python",
   "nbconvert_exporter": "python",
   "pygments_lexer": "ipython3",
   "version": "3.7.3"
  },
  "pycharm": {
   "stem_cell": {
    "cell_type": "raw",
    "source": [],
    "metadata": {
     "collapsed": false
    }
   }
  }
 },
 "nbformat": 4,
 "nbformat_minor": 2
}